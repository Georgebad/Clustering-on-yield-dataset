{
 "cells": [
  {
   "cell_type": "code",
   "execution_count": 1,
   "metadata": {},
   "outputs": [],
   "source": [
    "import sklearn.feature_extraction.text as sk_text\n",
    "from sklearn.decomposition import PCA\n",
    "import sklearn.cluster as sk_cluster\n",
    "import sklearn.metrics as metrics\n",
    "import matplotlib.pyplot as plt\n",
    "import numpy as np \n",
    "import json\n",
    "import time\n",
    "import csv"
   ]
  },
  {
   "cell_type": "markdown",
   "metadata": {},
   "source": [
    "This function we wil use it for map each cluster to a specific class."
   ]
  },
  {
   "cell_type": "code",
   "execution_count": 2,
   "metadata": {},
   "outputs": [],
   "source": [
    "def cluster_class_mapping(kmeans_labels,true_labels):\n",
    "    C=metrics.confusion_matrix(kmeans_labels,true_labels)\n",
    "    mapping=list(np.argmax(C,axis=1))\n",
    "    mapped_kmeans_labels =[mapping[l] for l in kmeans_labels]\n",
    "    C2=metrics.confusion_matrix(mapped_kmeans_labels,true_labels)\n",
    "    return mapped_kmeans_labels,C2"
   ]
  },
  {
   "cell_type": "markdown",
   "metadata": {},
   "source": [
    "First we filter the business.json file and we keep a matrix with only the businesses that located in Torronto and \n",
    "have more than 10 reviews. \n",
    "\n",
    "Also we keep the true labels of businesses that we will use at next steps."
   ]
  },
  {
   "cell_type": "code",
   "execution_count": 3,
   "metadata": {},
   "outputs": [],
   "source": [
    "businesses = []\n",
    "true_labels = []\n",
    "categories=['Beauty & Spas','Shopping','Bars','All']\n",
    "with open('yelp_academic_dataset_business.json',encoding='utf-8') as file_biz:\n",
    "    for line in file_biz:\n",
    "    \ttemp_biz = json.loads(line)\n",
    "    \tif temp_biz.get('city')=='Toronto' and temp_biz.get('review_count')>=10:\n",
    "            counter=0\n",
    "            indicator=0\n",
    "            if temp_biz.get('categories') is not None:\n",
    "                cat=temp_biz.get('categories').split(\",\")\n",
    "            for x in cat:\n",
    "                if x==\"Beauty & Spas\":\n",
    "                    counter+=1\n",
    "                    indicator=0\n",
    "                if x==\"Shopping\":\n",
    "                    counter+=1\n",
    "                    indicator=1\n",
    "                if x==\"Bars\":\n",
    "                    counter+=1\n",
    "                    indicator=2\n",
    "            if counter!=0 and counter!=3:\n",
    "                businesses.append(temp_biz.get('business_id'))\n",
    "                true_labels.append(indicator)\n",
    "            if counter==3:\n",
    "                indicator=3\n",
    "                businesses.append(temp_biz.get('business_id'))\n",
    "                true_labels.append(indicator)"
   ]
  },
  {
   "cell_type": "markdown",
   "metadata": {},
   "source": [
    "We create the reviews matrix that contains all the reviews for the businesses from above.\n",
    "\n",
    "The reviews are sort exactly the same way as bussinesses wich means that the element review[ i ] refers to businesses[ i ]."
   ]
  },
  {
   "cell_type": "code",
   "execution_count": 4,
   "metadata": {},
   "outputs": [],
   "source": [
    "reviews=[' '] * len(businesses)\n",
    "with open('yelp_academic_dataset_review.json',encoding='utf-8') as file_rev:\n",
    "    for line in file_rev:\n",
    "        temp_rev = json.loads(line)\n",
    "        if temp_rev.get('text') is not None and temp_rev.get('business_id') in businesses:\n",
    "            pos=businesses.index(temp_rev.get('business_id'))\n",
    "            reviews[pos]=reviews[pos]+temp_rev.get('text') "
   ]
  },
  {
   "cell_type": "markdown",
   "metadata": {},
   "source": [
    "We use the TfidfVectorizer function from sklearn package to crete the TF-IDF matrix."
   ]
  },
  {
   "cell_type": "code",
   "execution_count": 5,
   "metadata": {},
   "outputs": [],
   "source": [
    "vectorizer =sk_text.TfidfVectorizer(stop_words='english')\n",
    "tfidf=vectorizer.fit_transform(reviews)"
   ]
  },
  {
   "cell_type": "markdown",
   "metadata": {},
   "source": [
    "With K-means algorithm we create our clusters.\n",
    "\n",
    "After that we will compute confusion matrix,precision and recall so as to check our clusters. "
   ]
  },
  {
   "cell_type": "code",
   "execution_count": 6,
   "metadata": {},
   "outputs": [
    {
     "name": "stdout",
     "output_type": "stream",
     "text": [
      "[0.93269231 0.61330049 0.9707113 ]\n",
      "[0.39917695 0.95402299 0.94693878]\n"
     ]
    },
    {
     "data": {
      "image/png": "[encoded data removed]",
      "text/plain": [
       "<Figure size 432x288 with 1 Axes>"
      ]
     },
     "metadata": {
      "needs_background": "light"
     },
     "output_type": "display_data"
    }
   ],
   "source": [
    "kmeans=sk_cluster.KMeans(n_clusters=3,init='k-means++',max_iter=100,n_init=1)\n",
    "kmeans.fit_predict(tfidf)\n",
    "\n",
    "C_kmeans=metrics.confusion_matrix(kmeans.labels_,true_labels)\n",
    "mapped_kmeans_labels,C_kmeans =cluster_class_mapping(kmeans.labels_,true_labels)\n",
    "\n",
    "precision_kmeans=metrics.precision_score(true_labels,mapped_kmeans_labels,average=None,zero_division=1)\n",
    "print(precision_kmeans)\n",
    "\n",
    "recall_kmeans=metrics.recall_score(true_labels,mapped_kmeans_labels,average=None)\n",
    "print(recall_kmeans)\n",
    "\n",
    "plt.pcolormesh(C_kmeans,cmap=plt.cm.Reds)\n",
    "plt.show()"
   ]
  },
  {
   "cell_type": "markdown",
   "metadata": {},
   "source": [
    "We can see from the confusion matrix that some businesses from Beauty & Spa are going to Shopping's cluster which means that may choose wrong number of clusters for the k-means algorithm."
   ]
  },
  {
   "cell_type": "markdown",
   "metadata": {},
   "source": [
    "We follow the same process as we did with K-means but now we use Agglomerative clustering with 4 different linkage types as you will see bellow.\n",
    "\n",
    "First we have Complete linkage"
   ]
  },
  {
   "cell_type": "code",
   "execution_count": 7,
   "metadata": {},
   "outputs": [
    {
     "name": "stdout",
     "output_type": "stream",
     "text": [
      "[0.88931298 0.93886463 0.91860465]\n",
      "[0.95884774 0.82375479 0.96734694]\n"
     ]
    },
    {
     "data": {
      "image/png": "[encoded data removed]",
      "text/plain": [
       "<Figure size 432x288 with 1 Axes>"
      ]
     },
     "metadata": {
      "needs_background": "light"
     },
     "output_type": "display_data"
    }
   ],
   "source": [
    "dense=tfidf.todense()\n",
    "\n",
    "aggloC=sk_cluster.AgglomerativeClustering(linkage='complete',n_clusters=3)\n",
    "agg_complete=aggloC.fit_predict(dense)\n",
    "\n",
    "C_agglo_complete=metrics.confusion_matrix(agg_complete,true_labels)\n",
    "mapped_aggloC_labels,C_agglo_complete = cluster_class_mapping(agg_complete,true_labels)\n",
    "\n",
    "precision_aggloC=metrics.precision_score(true_labels,mapped_aggloC_labels,average=None,zero_division=1)\n",
    "print(precision_aggloC)\n",
    "\n",
    "recall_aggloC=metrics.recall_score(true_labels,mapped_aggloC_labels,average=None)\n",
    "print(recall_aggloC)\n",
    "\n",
    "plt.pcolormesh(C_agglo_complete,cmap=plt.cm.Reds)\n",
    "plt.show()"
   ]
  },
  {
   "cell_type": "markdown",
   "metadata": {},
   "source": [
    "Now its clear that agglomerative clustering with complete linkage has much better results from the kmeans algorithm beacause he have very good matching between the predicted and true labels. \n",
    "\n"
   ]
  },
  {
   "cell_type": "markdown",
   "metadata": {},
   "source": [
    "Here we have Single linkage"
   ]
  },
  {
   "cell_type": "code",
   "execution_count": 8,
   "metadata": {},
   "outputs": [
    {
     "name": "stdout",
     "output_type": "stream",
     "text": [
      "[1.         0.34846462 1.        ]\n",
      "[0. 1. 0.]\n"
     ]
    },
    {
     "data": {
      "image/png": "[encoded data removed]",
      "text/plain": [
       "<Figure size 432x288 with 1 Axes>"
      ]
     },
     "metadata": {
      "needs_background": "light"
     },
     "output_type": "display_data"
    }
   ],
   "source": [
    "aggloS=sk_cluster.AgglomerativeClustering(linkage='single',n_clusters=3)\n",
    "agg_single=aggloS.fit_predict(dense)\n",
    "\n",
    "C_agglo_single=metrics.confusion_matrix(agg_single,true_labels)\n",
    "mapped_aggloS_labels,C_agglo_single =cluster_class_mapping(agg_single,true_labels)\n",
    "\n",
    "precision_aggloS=metrics.precision_score(true_labels,mapped_aggloS_labels,average=None,zero_division=1)\n",
    "print(precision_aggloS)\n",
    "\n",
    "recall_aggloS=metrics.recall_score(true_labels,mapped_aggloS_labels,average=None)\n",
    "print(recall_aggloS)\n",
    "\n",
    "plt.pcolormesh(C_agglo_single,cmap=plt.cm.Reds)\n",
    "plt.show()"
   ]
  },
  {
   "cell_type": "markdown",
   "metadata": {},
   "source": [
    "The single linkage doesnt give as very good results because a lot bussinesses from Beauty&Spa are going to Shopping's cluster and a lot of businesses from Bars also go to Shopping's cluster."
   ]
  },
  {
   "cell_type": "markdown",
   "metadata": {},
   "source": [
    "Here we have Average linkage"
   ]
  },
  {
   "cell_type": "code",
   "execution_count": 9,
   "metadata": {},
   "outputs": [
    {
     "name": "stdout",
     "output_type": "stream",
     "text": [
      "[1.         0.34893048 1.        ]\n",
      "[0.00411523 1.         0.        ]\n"
     ]
    },
    {
     "data": {
      "image/png": "[encoded data removed]",
      "text/plain": [
       "<Figure size 432x288 with 1 Axes>"
      ]
     },
     "metadata": {
      "needs_background": "light"
     },
     "output_type": "display_data"
    }
   ],
   "source": [
    "aggloA=sk_cluster.AgglomerativeClustering(linkage='average',n_clusters=3)\n",
    "agg_average=aggloA.fit_predict(dense)\n",
    "\n",
    "C_agglo_average=metrics.confusion_matrix(agg_average,true_labels)\n",
    "mapped_aggloA_labels,C_agglo_average =cluster_class_mapping(agg_average,true_labels)\n",
    "\n",
    "precision_aggloA=metrics.precision_score(true_labels,mapped_aggloA_labels,average=None,zero_division=1)\n",
    "print(precision_aggloA)\n",
    "\n",
    "recall_aggloA=metrics.recall_score(true_labels,mapped_aggloA_labels,average=None)\n",
    "print(recall_aggloA)\n",
    "\n",
    "plt.pcolormesh(C_agglo_average,cmap=plt.cm.Reds)\n",
    "plt.show()"
   ]
  },
  {
   "cell_type": "markdown",
   "metadata": {},
   "source": [
    "The Average linkage give as very similar results to single's linkage."
   ]
  },
  {
   "cell_type": "markdown",
   "metadata": {},
   "source": [
    "And here we have Ward linkage."
   ]
  },
  {
   "cell_type": "code",
   "execution_count": 10,
   "metadata": {
    "scrolled": true
   },
   "outputs": [
    {
     "name": "stdout",
     "output_type": "stream",
     "text": [
      "[0.97014925 0.569161   0.95850622]\n",
      "[0.26748971 0.96168582 0.94285714]\n"
     ]
    },
    {
     "data": {
      "image/png": "[encoded data removed]",
      "text/plain": [
       "<Figure size 432x288 with 1 Axes>"
      ]
     },
     "metadata": {
      "needs_background": "light"
     },
     "output_type": "display_data"
    }
   ],
   "source": [
    "aggloW=sk_cluster.AgglomerativeClustering(linkage='ward',n_clusters=3)\n",
    "agg_ward=aggloW.fit_predict(dense)\n",
    "\n",
    "C_agglo_ward=metrics.confusion_matrix(agg_ward,true_labels)\n",
    "mapped_aggloW_labels,C_agglo_ward =cluster_class_mapping(agg_ward,true_labels)\n",
    "\n",
    "precision_aggloW=metrics.precision_score(true_labels,mapped_aggloW_labels,average=None,zero_division=1)\n",
    "print(precision_aggloW)\n",
    "\n",
    "recall_aggloW=metrics.recall_score(true_labels,mapped_aggloW_labels,average=None)\n",
    "print(recall_aggloW)\n",
    "\n",
    "plt.pcolormesh(C_agglo_ward,cmap=plt.cm.Reds)\n",
    "plt.show()"
   ]
  },
  {
   "cell_type": "markdown",
   "metadata": {},
   "source": [
    "Ward linkage results are very similar with kmeans results."
   ]
  },
  {
   "cell_type": "markdown",
   "metadata": {},
   "source": [
    "Now we will create and use the Silhouette plot  to check the best number of clusters we can use for the best result."
   ]
  },
  {
   "cell_type": "code",
   "execution_count": 11,
   "metadata": {},
   "outputs": [
    {
     "data": {
      "image/png": "[encoded data removed]",
      "text/plain": [
       "<Figure size 432x288 with 1 Axes>"
      ]
     },
     "metadata": {
      "needs_background": "light"
     },
     "output_type": "display_data"
    }
   ],
   "source": [
    "error=np.zeros(11)\n",
    "sh_score=np.zeros(11)\n",
    "for k in range(1,11):\n",
    "    kmeans=sk_cluster.KMeans(init='k-means++',n_clusters=k,n_init=10)\n",
    "    kmeans.fit_predict(tfidf)\n",
    "    error[k]=kmeans.inertia_\n",
    "    if k>1: sh_score[k]=metrics.silhouette_score(tfidf,kmeans.labels_)\n",
    "plt.plot(range(2,len(sh_score)),sh_score[2:])\n",
    "plt.xlabel('Number of clusters')\n",
    "plt.ylabel('silhouette score')\n",
    "plt.show()"
   ]
  },
  {
   "cell_type": "markdown",
   "metadata": {},
   "source": [
    "We see a peek at k=7 and k=9 indicating that these may be good values for the cluster number.\n",
    "\n",
    "So we will repeat the k-means but with more clusters"
   ]
  },
  {
   "cell_type": "code",
   "execution_count": 12,
   "metadata": {},
   "outputs": [
    {
     "data": {
      "image/png": "[encoded data removed]",
      "text/plain": [
       "<Figure size 432x288 with 1 Axes>"
      ]
     },
     "metadata": {
      "needs_background": "light"
     },
     "output_type": "display_data"
    }
   ],
   "source": [
    "kmeans_5=sk_cluster.KMeans(n_clusters=5,init='k-means++',max_iter=100,n_init=1)\n",
    "kmeans_5.fit_predict(tfidf)\n",
    "\n",
    "C_kmeans_5=metrics.confusion_matrix(kmeans_5.labels_,true_labels)\n",
    "mapped_kmeans_labels_5,C_kmeans_5 =cluster_class_mapping(kmeans_5.labels_,true_labels)\n",
    "plt.pcolormesh(C_kmeans_5,cmap=plt.cm.Reds)\n",
    "plt.show()"
   ]
  },
  {
   "cell_type": "markdown",
   "metadata": {},
   "source": [
    "AS we can se theres no big deference 5 cluster from our first try with 3."
   ]
  },
  {
   "cell_type": "code",
   "execution_count": 13,
   "metadata": {},
   "outputs": [
    {
     "data": {
      "image/png": "[encoded data removed]",
      "text/plain": [
       "<Figure size 432x288 with 1 Axes>"
      ]
     },
     "metadata": {
      "needs_background": "light"
     },
     "output_type": "display_data"
    }
   ],
   "source": [
    "kmeans_8=sk_cluster.KMeans(n_clusters=9,init='k-means++',max_iter=100,n_init=1)\n",
    "kmeans_8.fit_predict(tfidf)\n",
    "\n",
    "C_kmeans_8=metrics.confusion_matrix(kmeans_8.labels_,true_labels)\n",
    "mapped_kmeans_labels_8,C_kmeans_8 =cluster_class_mapping(kmeans_8.labels_,true_labels)\n",
    "plt.pcolormesh(C_kmeans_8,cmap=plt.cm.Reds)\n",
    "plt.show()"
   ]
  },
  {
   "cell_type": "markdown",
   "metadata": {},
   "source": [
    "As we can see with 9 clusters the result is almost perfect with very few mistakes."
   ]
  }
 ],
 "metadata": {
  "kernelspec": {
   "display_name": "Python 3",
   "language": "python",
   "name": "python3"
  },
  "language_info": {
   "codemirror_mode": {
    "name": "ipython",
    "version": 3
   },
   "file_extension": ".py",
   "mimetype": "text/x-python",
   "name": "python",
   "nbconvert_exporter": "python",
   "pygments_lexer": "ipython3",
   "version": "3.8.4"
  }
 },
 "nbformat": 4,
 "nbformat_minor": 4
}
